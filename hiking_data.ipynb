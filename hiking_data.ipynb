{
 "cells": [
  {
   "cell_type": "code",
   "execution_count": 323,
   "metadata": {},
   "outputs": [],
   "source": [
    "import pandas as pd\n",
    "from bs4 import BeautifulSoup\n",
    "import requests\n",
    "import re"
   ]
  },
  {
   "cell_type": "code",
   "execution_count": 235,
   "metadata": {},
   "outputs": [],
   "source": [
    "url1 = 'https://thetrek.co/11-long-trails-to-hike-in-europe/'\n",
    "url2 = 'https://www.muchbetteradventures.com/magazine/the-20-best-hikes-in-europe/'\n",
    "url3 = 'https://www.ridestore.com/mag/best-hikes-in-europe/'\n",
    "url4 = 'https://www.theadventurejunkies.com/best-hikes-in-europe/'\n",
    "url5 = 'https://www.timeout.com/europe/things-to-do/best-hikes-walking-trails-in-europe'"
   ]
  },
  {
   "cell_type": "code",
   "execution_count": 8,
   "metadata": {},
   "outputs": [],
   "source": [
    "response = requests.get(url1)\n"
   ]
  },
  {
   "cell_type": "code",
   "execution_count": 10,
   "metadata": {},
   "outputs": [],
   "source": [
    "soup = BeautifulSoup(response.content)"
   ]
  },
  {
   "cell_type": "code",
   "execution_count": 236,
   "metadata": {},
   "outputs": [],
   "source": [
    "url_list=[url1,url2,url3,url4,url5]\n",
    "\n",
    "def hot_soup(com):\n",
    "    response = requests.get(com)\n",
    "    soup = BeautifulSoup(response.content)\n",
    "    return soup\n"
   ]
  },
  {
   "cell_type": "code",
   "execution_count": 237,
   "metadata": {},
   "outputs": [],
   "source": [
    "soup_list=[]\n",
    "for i in range(len(url_list)):\n",
    "    out = hot_soup(url_list[i])\n",
    "    soup_list.append(out)"
   ]
  },
  {
   "cell_type": "code",
   "execution_count": 243,
   "metadata": {},
   "outputs": [],
   "source": [
    "\n",
    "soup_list\n",
    "\n",
    "trek = soup_list[0]\n",
    "mbeta = soup_list[1]\n",
    "ridst = soup_list[2]\n",
    "theadv = soup_list[3]\n",
    "timt = soup_list[4]\n"
   ]
  },
  {
   "cell_type": "markdown",
   "metadata": {},
   "source": [
    "#### The Trek"
   ]
  },
  {
   "cell_type": "code",
   "execution_count": 361,
   "metadata": {},
   "outputs": [],
   "source": [
    "loc=['Spain,El Camino de Santiago',\n",
    "'France,Tour du Mont Blanc',\n",
    "'Switzerland,Haute Route',\n",
    "'Norway,Nordkalottruta',\n",
    "'Bulgaria,Kom-Emine',\n",
    "'Iceland,Laugavegur and Fimmvörðuháls',\n",
    "'Scotland,West Highland Way',\n",
    "'Italy,Grande Traversata delle Alpi',\n",
    "'Wales,Pembrokeshire Coastal Path',\n",
    "'Sweden,Kungsleden',\n",
    "'Slovenia,Slovenian Mountain Hiking Trail',\n",
    "'Italy,Cinque Terre Coastal Trail']\n",
    "plac=[plac.split(',') for plac in loc]"
   ]
  },
  {
   "cell_type": "code",
   "execution_count": 365,
   "metadata": {},
   "outputs": [],
   "source": [
    "countries = []\n",
    "places = []\n",
    "for i in plac:\n",
    "    countries.append(i[0])\n",
    "    places.append(i[1])\n",
    "data1 = pd.DataFrame({'Countries':countries,'Destinations':places})"
   ]
  },
  {
   "cell_type": "code",
   "execution_count": 367,
   "metadata": {},
   "outputs": [],
   "source": [
    "data1['Activity']='Hiking'"
   ]
  },
  {
   "cell_type": "code",
   "execution_count": 368,
   "metadata": {},
   "outputs": [
    {
     "data": {
      "text/html": [
       "<div>\n",
       "<style scoped>\n",
       "    .dataframe tbody tr th:only-of-type {\n",
       "        vertical-align: middle;\n",
       "    }\n",
       "\n",
       "    .dataframe tbody tr th {\n",
       "        vertical-align: top;\n",
       "    }\n",
       "\n",
       "    .dataframe thead th {\n",
       "        text-align: right;\n",
       "    }\n",
       "</style>\n",
       "<table border=\"1\" class=\"dataframe\">\n",
       "  <thead>\n",
       "    <tr style=\"text-align: right;\">\n",
       "      <th></th>\n",
       "      <th>Countries</th>\n",
       "      <th>Destinations</th>\n",
       "      <th>Activity</th>\n",
       "    </tr>\n",
       "  </thead>\n",
       "  <tbody>\n",
       "    <tr>\n",
       "      <th>0</th>\n",
       "      <td>Spain</td>\n",
       "      <td>El Camino de Santiago</td>\n",
       "      <td>Hiking</td>\n",
       "    </tr>\n",
       "    <tr>\n",
       "      <th>1</th>\n",
       "      <td>France</td>\n",
       "      <td>Tour du Mont Blanc</td>\n",
       "      <td>Hiking</td>\n",
       "    </tr>\n",
       "    <tr>\n",
       "      <th>2</th>\n",
       "      <td>Switzerland</td>\n",
       "      <td>Haute Route</td>\n",
       "      <td>Hiking</td>\n",
       "    </tr>\n",
       "    <tr>\n",
       "      <th>3</th>\n",
       "      <td>Norway</td>\n",
       "      <td>Nordkalottruta</td>\n",
       "      <td>Hiking</td>\n",
       "    </tr>\n",
       "    <tr>\n",
       "      <th>4</th>\n",
       "      <td>Bulgaria</td>\n",
       "      <td>Kom-Emine</td>\n",
       "      <td>Hiking</td>\n",
       "    </tr>\n",
       "    <tr>\n",
       "      <th>5</th>\n",
       "      <td>Iceland</td>\n",
       "      <td>Laugavegur and Fimmvörðuháls</td>\n",
       "      <td>Hiking</td>\n",
       "    </tr>\n",
       "    <tr>\n",
       "      <th>6</th>\n",
       "      <td>Scotland</td>\n",
       "      <td>West Highland Way</td>\n",
       "      <td>Hiking</td>\n",
       "    </tr>\n",
       "    <tr>\n",
       "      <th>7</th>\n",
       "      <td>Italy</td>\n",
       "      <td>Grande Traversata delle Alpi</td>\n",
       "      <td>Hiking</td>\n",
       "    </tr>\n",
       "    <tr>\n",
       "      <th>8</th>\n",
       "      <td>Wales</td>\n",
       "      <td>Pembrokeshire Coastal Path</td>\n",
       "      <td>Hiking</td>\n",
       "    </tr>\n",
       "    <tr>\n",
       "      <th>9</th>\n",
       "      <td>Sweden</td>\n",
       "      <td>Kungsleden</td>\n",
       "      <td>Hiking</td>\n",
       "    </tr>\n",
       "    <tr>\n",
       "      <th>10</th>\n",
       "      <td>Slovenia</td>\n",
       "      <td>Slovenian Mountain Hiking Trail</td>\n",
       "      <td>Hiking</td>\n",
       "    </tr>\n",
       "    <tr>\n",
       "      <th>11</th>\n",
       "      <td>Italy</td>\n",
       "      <td>Cinque Terre Coastal Trail</td>\n",
       "      <td>Hiking</td>\n",
       "    </tr>\n",
       "  </tbody>\n",
       "</table>\n",
       "</div>"
      ],
      "text/plain": [
       "      Countries                     Destinations Activity\n",
       "0         Spain            El Camino de Santiago   Hiking\n",
       "1        France               Tour du Mont Blanc   Hiking\n",
       "2   Switzerland                      Haute Route   Hiking\n",
       "3        Norway                   Nordkalottruta   Hiking\n",
       "4      Bulgaria                        Kom-Emine   Hiking\n",
       "5       Iceland     Laugavegur and Fimmvörðuháls   Hiking\n",
       "6      Scotland                West Highland Way   Hiking\n",
       "7         Italy     Grande Traversata delle Alpi   Hiking\n",
       "8         Wales       Pembrokeshire Coastal Path   Hiking\n",
       "9        Sweden                       Kungsleden   Hiking\n",
       "10     Slovenia  Slovenian Mountain Hiking Trail   Hiking\n",
       "11        Italy       Cinque Terre Coastal Trail   Hiking"
      ]
     },
     "execution_count": 368,
     "metadata": {},
     "output_type": "execute_result"
    }
   ],
   "source": []
  },
  {
   "cell_type": "code",
   "execution_count": 353,
   "metadata": {},
   "outputs": [
    {
     "ename": "FileNotFoundError",
     "evalue": "[Errno 2] No such file or directory: 'Users\\\\Francesco M\\\\Documents\\\\IronHack Syllabus\\\\Project'",
     "output_type": "error",
     "traceback": [
      "\u001b[1;31m---------------------------------------------------------------------------\u001b[0m",
      "\u001b[1;31mFileNotFoundError\u001b[0m                         Traceback (most recent call last)",
      "\u001b[1;32mc:\\Users\\Francesco M\\Documents\\IronHack Syllabus\\Project\\lab_3\\lab_3_api_and_webscrape\\hiking_data.ipynb Cell 13\u001b[0m in \u001b[0;36m<cell line: 1>\u001b[1;34m()\u001b[0m\n\u001b[1;32m----> <a href='vscode-notebook-cell:/c%3A/Users/Francesco%20M/Documents/IronHack%20Syllabus/Project/lab_3/lab_3_api_and_webscrape/hiking_data.ipynb#ch0000033?line=0'>1</a>\u001b[0m pd\u001b[39m.\u001b[39;49mread_csv(\u001b[39m'\u001b[39;49m\u001b[39mUsers\u001b[39;49m\u001b[39m\\\u001b[39;49m\u001b[39mFrancesco M\u001b[39;49m\u001b[39m\\\u001b[39;49m\u001b[39mDocuments\u001b[39;49m\u001b[39m\\\u001b[39;49m\u001b[39mIronHack Syllabus\u001b[39;49m\u001b[39m\\\u001b[39;49m\u001b[39mProject\u001b[39;49m\u001b[39m'\u001b[39;49m)\n",
      "File \u001b[1;32mc:\\anaconda3\\envs\\Ironhack\\lib\\site-packages\\pandas\\util\\_decorators.py:311\u001b[0m, in \u001b[0;36mdeprecate_nonkeyword_arguments.<locals>.decorate.<locals>.wrapper\u001b[1;34m(*args, **kwargs)\u001b[0m\n\u001b[0;32m    305\u001b[0m \u001b[39mif\u001b[39;00m \u001b[39mlen\u001b[39m(args) \u001b[39m>\u001b[39m num_allow_args:\n\u001b[0;32m    306\u001b[0m     warnings\u001b[39m.\u001b[39mwarn(\n\u001b[0;32m    307\u001b[0m         msg\u001b[39m.\u001b[39mformat(arguments\u001b[39m=\u001b[39marguments),\n\u001b[0;32m    308\u001b[0m         \u001b[39mFutureWarning\u001b[39;00m,\n\u001b[0;32m    309\u001b[0m         stacklevel\u001b[39m=\u001b[39mstacklevel,\n\u001b[0;32m    310\u001b[0m     )\n\u001b[1;32m--> 311\u001b[0m \u001b[39mreturn\u001b[39;00m func(\u001b[39m*\u001b[39margs, \u001b[39m*\u001b[39m\u001b[39m*\u001b[39mkwargs)\n",
      "File \u001b[1;32mc:\\anaconda3\\envs\\Ironhack\\lib\\site-packages\\pandas\\io\\parsers\\readers.py:680\u001b[0m, in \u001b[0;36mread_csv\u001b[1;34m(filepath_or_buffer, sep, delimiter, header, names, index_col, usecols, squeeze, prefix, mangle_dupe_cols, dtype, engine, converters, true_values, false_values, skipinitialspace, skiprows, skipfooter, nrows, na_values, keep_default_na, na_filter, verbose, skip_blank_lines, parse_dates, infer_datetime_format, keep_date_col, date_parser, dayfirst, cache_dates, iterator, chunksize, compression, thousands, decimal, lineterminator, quotechar, quoting, doublequote, escapechar, comment, encoding, encoding_errors, dialect, error_bad_lines, warn_bad_lines, on_bad_lines, delim_whitespace, low_memory, memory_map, float_precision, storage_options)\u001b[0m\n\u001b[0;32m    665\u001b[0m kwds_defaults \u001b[39m=\u001b[39m _refine_defaults_read(\n\u001b[0;32m    666\u001b[0m     dialect,\n\u001b[0;32m    667\u001b[0m     delimiter,\n\u001b[1;32m   (...)\u001b[0m\n\u001b[0;32m    676\u001b[0m     defaults\u001b[39m=\u001b[39m{\u001b[39m\"\u001b[39m\u001b[39mdelimiter\u001b[39m\u001b[39m\"\u001b[39m: \u001b[39m\"\u001b[39m\u001b[39m,\u001b[39m\u001b[39m\"\u001b[39m},\n\u001b[0;32m    677\u001b[0m )\n\u001b[0;32m    678\u001b[0m kwds\u001b[39m.\u001b[39mupdate(kwds_defaults)\n\u001b[1;32m--> 680\u001b[0m \u001b[39mreturn\u001b[39;00m _read(filepath_or_buffer, kwds)\n",
      "File \u001b[1;32mc:\\anaconda3\\envs\\Ironhack\\lib\\site-packages\\pandas\\io\\parsers\\readers.py:575\u001b[0m, in \u001b[0;36m_read\u001b[1;34m(filepath_or_buffer, kwds)\u001b[0m\n\u001b[0;32m    572\u001b[0m _validate_names(kwds\u001b[39m.\u001b[39mget(\u001b[39m\"\u001b[39m\u001b[39mnames\u001b[39m\u001b[39m\"\u001b[39m, \u001b[39mNone\u001b[39;00m))\n\u001b[0;32m    574\u001b[0m \u001b[39m# Create the parser.\u001b[39;00m\n\u001b[1;32m--> 575\u001b[0m parser \u001b[39m=\u001b[39m TextFileReader(filepath_or_buffer, \u001b[39m*\u001b[39m\u001b[39m*\u001b[39mkwds)\n\u001b[0;32m    577\u001b[0m \u001b[39mif\u001b[39;00m chunksize \u001b[39mor\u001b[39;00m iterator:\n\u001b[0;32m    578\u001b[0m     \u001b[39mreturn\u001b[39;00m parser\n",
      "File \u001b[1;32mc:\\anaconda3\\envs\\Ironhack\\lib\\site-packages\\pandas\\io\\parsers\\readers.py:934\u001b[0m, in \u001b[0;36mTextFileReader.__init__\u001b[1;34m(self, f, engine, **kwds)\u001b[0m\n\u001b[0;32m    931\u001b[0m     \u001b[39mself\u001b[39m\u001b[39m.\u001b[39moptions[\u001b[39m\"\u001b[39m\u001b[39mhas_index_names\u001b[39m\u001b[39m\"\u001b[39m] \u001b[39m=\u001b[39m kwds[\u001b[39m\"\u001b[39m\u001b[39mhas_index_names\u001b[39m\u001b[39m\"\u001b[39m]\n\u001b[0;32m    933\u001b[0m \u001b[39mself\u001b[39m\u001b[39m.\u001b[39mhandles: IOHandles \u001b[39m|\u001b[39m \u001b[39mNone\u001b[39;00m \u001b[39m=\u001b[39m \u001b[39mNone\u001b[39;00m\n\u001b[1;32m--> 934\u001b[0m \u001b[39mself\u001b[39m\u001b[39m.\u001b[39m_engine \u001b[39m=\u001b[39m \u001b[39mself\u001b[39;49m\u001b[39m.\u001b[39;49m_make_engine(f, \u001b[39mself\u001b[39;49m\u001b[39m.\u001b[39;49mengine)\n",
      "File \u001b[1;32mc:\\anaconda3\\envs\\Ironhack\\lib\\site-packages\\pandas\\io\\parsers\\readers.py:1218\u001b[0m, in \u001b[0;36mTextFileReader._make_engine\u001b[1;34m(self, f, engine)\u001b[0m\n\u001b[0;32m   1214\u001b[0m     mode \u001b[39m=\u001b[39m \u001b[39m\"\u001b[39m\u001b[39mrb\u001b[39m\u001b[39m\"\u001b[39m\n\u001b[0;32m   1215\u001b[0m \u001b[39m# error: No overload variant of \"get_handle\" matches argument types\u001b[39;00m\n\u001b[0;32m   1216\u001b[0m \u001b[39m# \"Union[str, PathLike[str], ReadCsvBuffer[bytes], ReadCsvBuffer[str]]\"\u001b[39;00m\n\u001b[0;32m   1217\u001b[0m \u001b[39m# , \"str\", \"bool\", \"Any\", \"Any\", \"Any\", \"Any\", \"Any\"\u001b[39;00m\n\u001b[1;32m-> 1218\u001b[0m \u001b[39mself\u001b[39m\u001b[39m.\u001b[39mhandles \u001b[39m=\u001b[39m get_handle(  \u001b[39m# type: ignore[call-overload]\u001b[39;49;00m\n\u001b[0;32m   1219\u001b[0m     f,\n\u001b[0;32m   1220\u001b[0m     mode,\n\u001b[0;32m   1221\u001b[0m     encoding\u001b[39m=\u001b[39;49m\u001b[39mself\u001b[39;49m\u001b[39m.\u001b[39;49moptions\u001b[39m.\u001b[39;49mget(\u001b[39m\"\u001b[39;49m\u001b[39mencoding\u001b[39;49m\u001b[39m\"\u001b[39;49m, \u001b[39mNone\u001b[39;49;00m),\n\u001b[0;32m   1222\u001b[0m     compression\u001b[39m=\u001b[39;49m\u001b[39mself\u001b[39;49m\u001b[39m.\u001b[39;49moptions\u001b[39m.\u001b[39;49mget(\u001b[39m\"\u001b[39;49m\u001b[39mcompression\u001b[39;49m\u001b[39m\"\u001b[39;49m, \u001b[39mNone\u001b[39;49;00m),\n\u001b[0;32m   1223\u001b[0m     memory_map\u001b[39m=\u001b[39;49m\u001b[39mself\u001b[39;49m\u001b[39m.\u001b[39;49moptions\u001b[39m.\u001b[39;49mget(\u001b[39m\"\u001b[39;49m\u001b[39mmemory_map\u001b[39;49m\u001b[39m\"\u001b[39;49m, \u001b[39mFalse\u001b[39;49;00m),\n\u001b[0;32m   1224\u001b[0m     is_text\u001b[39m=\u001b[39;49mis_text,\n\u001b[0;32m   1225\u001b[0m     errors\u001b[39m=\u001b[39;49m\u001b[39mself\u001b[39;49m\u001b[39m.\u001b[39;49moptions\u001b[39m.\u001b[39;49mget(\u001b[39m\"\u001b[39;49m\u001b[39mencoding_errors\u001b[39;49m\u001b[39m\"\u001b[39;49m, \u001b[39m\"\u001b[39;49m\u001b[39mstrict\u001b[39;49m\u001b[39m\"\u001b[39;49m),\n\u001b[0;32m   1226\u001b[0m     storage_options\u001b[39m=\u001b[39;49m\u001b[39mself\u001b[39;49m\u001b[39m.\u001b[39;49moptions\u001b[39m.\u001b[39;49mget(\u001b[39m\"\u001b[39;49m\u001b[39mstorage_options\u001b[39;49m\u001b[39m\"\u001b[39;49m, \u001b[39mNone\u001b[39;49;00m),\n\u001b[0;32m   1227\u001b[0m )\n\u001b[0;32m   1228\u001b[0m \u001b[39massert\u001b[39;00m \u001b[39mself\u001b[39m\u001b[39m.\u001b[39mhandles \u001b[39mis\u001b[39;00m \u001b[39mnot\u001b[39;00m \u001b[39mNone\u001b[39;00m\n\u001b[0;32m   1229\u001b[0m f \u001b[39m=\u001b[39m \u001b[39mself\u001b[39m\u001b[39m.\u001b[39mhandles\u001b[39m.\u001b[39mhandle\n",
      "File \u001b[1;32mc:\\anaconda3\\envs\\Ironhack\\lib\\site-packages\\pandas\\io\\common.py:786\u001b[0m, in \u001b[0;36mget_handle\u001b[1;34m(path_or_buf, mode, encoding, compression, memory_map, is_text, errors, storage_options)\u001b[0m\n\u001b[0;32m    781\u001b[0m \u001b[39melif\u001b[39;00m \u001b[39misinstance\u001b[39m(handle, \u001b[39mstr\u001b[39m):\n\u001b[0;32m    782\u001b[0m     \u001b[39m# Check whether the filename is to be opened in binary mode.\u001b[39;00m\n\u001b[0;32m    783\u001b[0m     \u001b[39m# Binary mode does not support 'encoding' and 'newline'.\u001b[39;00m\n\u001b[0;32m    784\u001b[0m     \u001b[39mif\u001b[39;00m ioargs\u001b[39m.\u001b[39mencoding \u001b[39mand\u001b[39;00m \u001b[39m\"\u001b[39m\u001b[39mb\u001b[39m\u001b[39m\"\u001b[39m \u001b[39mnot\u001b[39;00m \u001b[39min\u001b[39;00m ioargs\u001b[39m.\u001b[39mmode:\n\u001b[0;32m    785\u001b[0m         \u001b[39m# Encoding\u001b[39;00m\n\u001b[1;32m--> 786\u001b[0m         handle \u001b[39m=\u001b[39m \u001b[39mopen\u001b[39;49m(\n\u001b[0;32m    787\u001b[0m             handle,\n\u001b[0;32m    788\u001b[0m             ioargs\u001b[39m.\u001b[39;49mmode,\n\u001b[0;32m    789\u001b[0m             encoding\u001b[39m=\u001b[39;49mioargs\u001b[39m.\u001b[39;49mencoding,\n\u001b[0;32m    790\u001b[0m             errors\u001b[39m=\u001b[39;49merrors,\n\u001b[0;32m    791\u001b[0m             newline\u001b[39m=\u001b[39;49m\u001b[39m\"\u001b[39;49m\u001b[39m\"\u001b[39;49m,\n\u001b[0;32m    792\u001b[0m         )\n\u001b[0;32m    793\u001b[0m     \u001b[39melse\u001b[39;00m:\n\u001b[0;32m    794\u001b[0m         \u001b[39m# Binary mode\u001b[39;00m\n\u001b[0;32m    795\u001b[0m         handle \u001b[39m=\u001b[39m \u001b[39mopen\u001b[39m(handle, ioargs\u001b[39m.\u001b[39mmode)\n",
      "\u001b[1;31mFileNotFoundError\u001b[0m: [Errno 2] No such file or directory: 'Users\\\\Francesco M\\\\Documents\\\\IronHack Syllabus\\\\Project'"
     ]
    }
   ],
   "source": [
    "pd.read_csv('Users\\Francesco M\\Documents\\IronHack Syllabus\\Project')\n"
   ]
  },
  {
   "cell_type": "code",
   "execution_count": 112,
   "metadata": {},
   "outputs": [
    {
     "name": "stdout",
     "output_type": "stream",
     "text": [
      "['Tour de Mont Blanc', 'Norwegian Fjords', 'Mount Triglav', 'Caucasus Mountains', 'Via Dinarica', 'The West Highland Way', 'Tour de Monte Rosa', 'Canary Islands', 'Laugavegurinn', 'Haute Route', 'High Tatras', 'GR20 (Northern & Southern)', 'Mont Blanc', 'Gran Paradiso National Park', 'Plitvice Lakes National Park', 'Circumnavigating the Matterhorn']\n",
      "['France', 'Norway', 'Slovenia', 'Georgia', 'The Balkans', 'Scotland', 'Italy', 'Spain', 'Iceland', 'France & Switzerland', 'Slovakia', 'Corsica', 'France', 'Italy', 'Croatia', 'Switzerland']\n"
     ]
    }
   ],
   "source": [
    "## muchbetteradventures\n",
    "loc = mbeta.find_all('h2')\n",
    "dirt=[i.text for i in loc[2:20]]\n",
    "destination2=[]\n",
    "for lis in dirt:\n",
    "    z = re.sub('\\d+\\.\\s','',lis)\n",
    "    destination2.append(z)\n",
    "\n",
    "\n",
    "countries = []\n",
    "places = []\n",
    "for l in destination2[0:16]:\n",
    "    q=l.split(', ')\n",
    "    places.append(q[0])\n",
    "    countries.append(q[1])\n",
    "print(places) \n",
    "print(countries)\n"
   ]
  },
  {
   "cell_type": "code",
   "execution_count": 134,
   "metadata": {},
   "outputs": [],
   "source": [
    "\n",
    "data2 = pd.DataFrame({'Countries':countries,'Destinations':places})\n"
   ]
  },
  {
   "cell_type": "code",
   "execution_count": 165,
   "metadata": {},
   "outputs": [],
   "source": [
    "##ridestore\n",
    "loc=(ridst.find_all('h3'))\n",
    "loc = [i.text for i in loc]\n",
    "destination3 = []\n",
    "for w in loc:\n",
    "    z=re.sub('\\d+\\.\\s','',w)\n",
    "    q = re.sub('\\s*-\\s*',',',z)\n",
    "    l = re.sub('\\s*–\\s*',',',q)\n",
    "    destination3.append(l)\n"
   ]
  },
  {
   "cell_type": "code",
   "execution_count": 183,
   "metadata": {},
   "outputs": [
    {
     "name": "stdout",
     "output_type": "stream",
     "text": [
      "['Adrspach', 'Teplice Rock Towns']\n",
      "['Dream Trail', ' Munich to Venice', 'Germany']\n",
      "['Alpe Adria', 'Austria']\n"
     ]
    },
    {
     "data": {
      "text/plain": [
       "[' Spain',\n",
       " 'Norway',\n",
       " 'France',\n",
       " 'Montenegro',\n",
       " 'Switzerland',\n",
       " 'Madeira',\n",
       " 'Norway',\n",
       " 'Poland',\n",
       " 'Norway',\n",
       " 'France',\n",
       " 'Spain',\n",
       " 'UK',\n",
       " 'Algarve',\n",
       " 'Switzerland',\n",
       " 'North Cap',\n",
       " 'Germany',\n",
       " 'Greece',\n",
       " 'Italy',\n",
       " 'Slovenia',\n",
       " 'Norway',\n",
       " 'Croatia',\n",
       " 'Slovakia',\n",
       " 'Isle of Skye',\n",
       " 'Norway',\n",
       " 'France',\n",
       " 'Italy',\n",
       " 'Sweden',\n",
       " 'Corsica',\n",
       " ' UK',\n",
       " ' Italy',\n",
       " 'Switzerland',\n",
       " 'Austria',\n",
       " 'Germany',\n",
       " 'Spain',\n",
       " 'Scotland',\n",
       " 'Switzerland',\n",
       " ' Switzerland',\n",
       " 'France',\n",
       " 'Iceland',\n",
       " 'Spain',\n",
       " 'Romania',\n",
       " 'Slovenia',\n",
       " 'The Balkans',\n",
       " 'Spain',\n",
       " 'Norway',\n",
       " 'Iceland',\n",
       " 'Luxembourg']"
      ]
     },
     "execution_count": 183,
     "metadata": {},
     "output_type": "execute_result"
    }
   ],
   "source": [
    "locations3 = []\n",
    "for sent in destination3:\n",
    "    s = sent.split(',')\n",
    "    if len(s)==2:\n",
    "        locations3.append(s)\n",
    "    elif len(s)>2:\n",
    "        s.pop(len(s)-1)\n",
    "        if len(s)>2:\n",
    "            s.pop(len(s)-1)\n",
    "            print(s)\n",
    "        else:\n",
    "            locations3.append(s)\n",
    "    else:\n",
    "        print('error')\n",
    "\n",
    "countries = []\n",
    "places = []\n",
    "for q in locations3:\n",
    "    countries.append(q[1])\n",
    "    places.append(q[0])\n",
    "\n"
   ]
  },
  {
   "cell_type": "code",
   "execution_count": 376,
   "metadata": {},
   "outputs": [],
   "source": [
    "data2['Activity']='Hiking'"
   ]
  },
  {
   "cell_type": "code",
   "execution_count": 185,
   "metadata": {},
   "outputs": [],
   "source": [
    "data3 = pd.DataFrame({'Countries':countries,'Places':places})"
   ]
  },
  {
   "cell_type": "code",
   "execution_count": 369,
   "metadata": {},
   "outputs": [],
   "source": [
    "data3['Activity']='Hiking'"
   ]
  },
  {
   "cell_type": "code",
   "execution_count": 210,
   "metadata": {},
   "outputs": [],
   "source": [
    "## the adventure junkies\n",
    "loc=theadv.find_all('h2')\n",
    "loc=[x.text for x in loc[:(len(loc)-1)]]\n",
    "countries= []\n",
    "places = []\n",
    "dl = []\n",
    "for q in loc:\n",
    "    q = (re.sub('–',',',q)).capitalize()\n",
    "    q = q.split(',')\n",
    "    if len(q)>2:\n",
    "        q.pop(1)\n",
    "        dl.append(q)\n",
    "    else:\n",
    "        dl.append(q)\n",
    "\n",
    "\n",
    "for q in dl:\n",
    "    countries.append(q[1])\n",
    "    places.append(q[0])\n",
    "countries[0] = 'france'\n",
    "\n",
    "\n",
    "\n",
    "\n"
   ]
  },
  {
   "cell_type": "code",
   "execution_count": 217,
   "metadata": {},
   "outputs": [],
   "source": [
    "countries=[(re.sub('\\s','',i)).capitalize() for i in countries]\n"
   ]
  },
  {
   "cell_type": "code",
   "execution_count": 221,
   "metadata": {},
   "outputs": [],
   "source": [
    "places=[re.sub('\\s$','',e) for e in places]"
   ]
  },
  {
   "cell_type": "code",
   "execution_count": 370,
   "metadata": {},
   "outputs": [],
   "source": [
    "data4=pd.DataFrame({'Countries':countries,'Destination':places})\n",
    "data4['Activity']='Hiking'"
   ]
  },
  {
   "cell_type": "code",
   "execution_count": 223,
   "metadata": {},
   "outputs": [],
   "source": [
    "data4['Activity']='Hiking'"
   ]
  },
  {
   "cell_type": "code",
   "execution_count": 227,
   "metadata": {},
   "outputs": [
    {
     "data": {
      "text/html": [
       "<div>\n",
       "<style scoped>\n",
       "    .dataframe tbody tr th:only-of-type {\n",
       "        vertical-align: middle;\n",
       "    }\n",
       "\n",
       "    .dataframe tbody tr th {\n",
       "        vertical-align: top;\n",
       "    }\n",
       "\n",
       "    .dataframe thead th {\n",
       "        text-align: right;\n",
       "    }\n",
       "</style>\n",
       "<table border=\"1\" class=\"dataframe\">\n",
       "  <thead>\n",
       "    <tr style=\"text-align: right;\">\n",
       "      <th></th>\n",
       "      <th>Activity</th>\n",
       "      <th>Countries</th>\n",
       "      <th>Destination</th>\n",
       "    </tr>\n",
       "  </thead>\n",
       "  <tbody>\n",
       "    <tr>\n",
       "      <th>0</th>\n",
       "      <td>Hiking</td>\n",
       "      <td>France</td>\n",
       "      <td>Tour du mont blanc</td>\n",
       "    </tr>\n",
       "    <tr>\n",
       "      <th>1</th>\n",
       "      <td>Hiking</td>\n",
       "      <td>Italy</td>\n",
       "      <td>Alta via 1</td>\n",
       "    </tr>\n",
       "    <tr>\n",
       "      <th>2</th>\n",
       "      <td>Hiking</td>\n",
       "      <td>Sweden</td>\n",
       "      <td>The kings trail</td>\n",
       "    </tr>\n",
       "    <tr>\n",
       "      <th>3</th>\n",
       "      <td>Hiking</td>\n",
       "      <td>Corsica</td>\n",
       "      <td>Gr20</td>\n",
       "    </tr>\n",
       "    <tr>\n",
       "      <th>4</th>\n",
       "      <td>Hiking</td>\n",
       "      <td>Iceland</td>\n",
       "      <td>Hot spring route</td>\n",
       "    </tr>\n",
       "    <tr>\n",
       "      <th>5</th>\n",
       "      <td>Hiking</td>\n",
       "      <td>Slovenia</td>\n",
       "      <td>Slovenian mountain trail</td>\n",
       "    </tr>\n",
       "    <tr>\n",
       "      <th>6</th>\n",
       "      <td>Hiking</td>\n",
       "      <td>Switzerland</td>\n",
       "      <td>Haute route</td>\n",
       "    </tr>\n",
       "    <tr>\n",
       "      <th>7</th>\n",
       "      <td>Hiking</td>\n",
       "      <td>Italy</td>\n",
       "      <td>Cinque terre coastal trail</td>\n",
       "    </tr>\n",
       "    <tr>\n",
       "      <th>8</th>\n",
       "      <td>Hiking</td>\n",
       "      <td>Austria</td>\n",
       "      <td>Eagles walk</td>\n",
       "    </tr>\n",
       "    <tr>\n",
       "      <th>9</th>\n",
       "      <td>Hiking</td>\n",
       "      <td>Spain</td>\n",
       "      <td>Camino de santiago</td>\n",
       "    </tr>\n",
       "    <tr>\n",
       "      <th>10</th>\n",
       "      <td>Hiking</td>\n",
       "      <td>Germany</td>\n",
       "      <td>Westweg trail</td>\n",
       "    </tr>\n",
       "    <tr>\n",
       "      <th>11</th>\n",
       "      <td>Hiking</td>\n",
       "      <td>Scotland</td>\n",
       "      <td>West highland way</td>\n",
       "    </tr>\n",
       "    <tr>\n",
       "      <th>12</th>\n",
       "      <td>Hiking</td>\n",
       "      <td>Spain</td>\n",
       "      <td>Central picos circuit</td>\n",
       "    </tr>\n",
       "    <tr>\n",
       "      <th>13</th>\n",
       "      <td>Hiking</td>\n",
       "      <td>Romania</td>\n",
       "      <td>Retezat mountains</td>\n",
       "    </tr>\n",
       "    <tr>\n",
       "      <th>14</th>\n",
       "      <td>Hiking</td>\n",
       "      <td>Norway</td>\n",
       "      <td>Hardangervidda transverse</td>\n",
       "    </tr>\n",
       "  </tbody>\n",
       "</table>\n",
       "</div>"
      ],
      "text/plain": [
       "   Activity    Countries                 Destination\n",
       "0    Hiking       France          Tour du mont blanc\n",
       "1    Hiking        Italy                  Alta via 1\n",
       "2    Hiking       Sweden             The kings trail\n",
       "3    Hiking      Corsica                        Gr20\n",
       "4    Hiking      Iceland            Hot spring route\n",
       "5    Hiking     Slovenia    Slovenian mountain trail\n",
       "6    Hiking  Switzerland                 Haute route\n",
       "7    Hiking        Italy  Cinque terre coastal trail\n",
       "8    Hiking      Austria                 Eagles walk\n",
       "9    Hiking        Spain          Camino de santiago\n",
       "10   Hiking      Germany               Westweg trail\n",
       "11   Hiking     Scotland           West highland way\n",
       "12   Hiking        Spain       Central picos circuit\n",
       "13   Hiking      Romania           Retezat mountains\n",
       "14   Hiking       Norway   Hardangervidda transverse"
      ]
     },
     "execution_count": 227,
     "metadata": {},
     "output_type": "execute_result"
    }
   ],
   "source": [
    "data4 = data4[['Activity','Countries','Destination']]\n",
    "data4"
   ]
  },
  {
   "cell_type": "code",
   "execution_count": 382,
   "metadata": {},
   "outputs": [
    {
     "data": {
      "text/html": [
       "<div>\n",
       "<style scoped>\n",
       "    .dataframe tbody tr th:only-of-type {\n",
       "        vertical-align: middle;\n",
       "    }\n",
       "\n",
       "    .dataframe tbody tr th {\n",
       "        vertical-align: top;\n",
       "    }\n",
       "\n",
       "    .dataframe thead th {\n",
       "        text-align: right;\n",
       "    }\n",
       "</style>\n",
       "<table border=\"1\" class=\"dataframe\">\n",
       "  <thead>\n",
       "    <tr style=\"text-align: right;\">\n",
       "      <th></th>\n",
       "      <th>Countries</th>\n",
       "      <th>Destinations</th>\n",
       "      <th>Activity</th>\n",
       "    </tr>\n",
       "  </thead>\n",
       "  <tbody>\n",
       "    <tr>\n",
       "      <th>0</th>\n",
       "      <td>Spain</td>\n",
       "      <td>El Camino de Santiago</td>\n",
       "      <td>Hiking</td>\n",
       "    </tr>\n",
       "    <tr>\n",
       "      <th>1</th>\n",
       "      <td>France</td>\n",
       "      <td>Tour du Mont Blanc</td>\n",
       "      <td>Hiking</td>\n",
       "    </tr>\n",
       "    <tr>\n",
       "      <th>2</th>\n",
       "      <td>Switzerland</td>\n",
       "      <td>Haute Route</td>\n",
       "      <td>Hiking</td>\n",
       "    </tr>\n",
       "    <tr>\n",
       "      <th>3</th>\n",
       "      <td>Norway</td>\n",
       "      <td>Nordkalottruta</td>\n",
       "      <td>Hiking</td>\n",
       "    </tr>\n",
       "    <tr>\n",
       "      <th>4</th>\n",
       "      <td>Bulgaria</td>\n",
       "      <td>Kom-Emine</td>\n",
       "      <td>Hiking</td>\n",
       "    </tr>\n",
       "    <tr>\n",
       "      <th>5</th>\n",
       "      <td>Iceland</td>\n",
       "      <td>Laugavegur and Fimmvörðuháls</td>\n",
       "      <td>Hiking</td>\n",
       "    </tr>\n",
       "    <tr>\n",
       "      <th>6</th>\n",
       "      <td>Scotland</td>\n",
       "      <td>West Highland Way</td>\n",
       "      <td>Hiking</td>\n",
       "    </tr>\n",
       "    <tr>\n",
       "      <th>7</th>\n",
       "      <td>Italy</td>\n",
       "      <td>Grande Traversata delle Alpi</td>\n",
       "      <td>Hiking</td>\n",
       "    </tr>\n",
       "    <tr>\n",
       "      <th>8</th>\n",
       "      <td>Wales</td>\n",
       "      <td>Pembrokeshire Coastal Path</td>\n",
       "      <td>Hiking</td>\n",
       "    </tr>\n",
       "    <tr>\n",
       "      <th>9</th>\n",
       "      <td>Sweden</td>\n",
       "      <td>Kungsleden</td>\n",
       "      <td>Hiking</td>\n",
       "    </tr>\n",
       "    <tr>\n",
       "      <th>10</th>\n",
       "      <td>Slovenia</td>\n",
       "      <td>Slovenian Mountain Hiking Trail</td>\n",
       "      <td>Hiking</td>\n",
       "    </tr>\n",
       "    <tr>\n",
       "      <th>11</th>\n",
       "      <td>Italy</td>\n",
       "      <td>Cinque Terre Coastal Trail</td>\n",
       "      <td>Hiking</td>\n",
       "    </tr>\n",
       "  </tbody>\n",
       "</table>\n",
       "</div>"
      ],
      "text/plain": [
       "      Countries                     Destinations Activity\n",
       "0         Spain            El Camino de Santiago   Hiking\n",
       "1        France               Tour du Mont Blanc   Hiking\n",
       "2   Switzerland                      Haute Route   Hiking\n",
       "3        Norway                   Nordkalottruta   Hiking\n",
       "4      Bulgaria                        Kom-Emine   Hiking\n",
       "5       Iceland     Laugavegur and Fimmvörðuháls   Hiking\n",
       "6      Scotland                West Highland Way   Hiking\n",
       "7         Italy     Grande Traversata delle Alpi   Hiking\n",
       "8         Wales       Pembrokeshire Coastal Path   Hiking\n",
       "9        Sweden                       Kungsleden   Hiking\n",
       "10     Slovenia  Slovenian Mountain Hiking Trail   Hiking\n",
       "11        Italy       Cinque Terre Coastal Trail   Hiking"
      ]
     },
     "execution_count": 382,
     "metadata": {},
     "output_type": "execute_result"
    }
   ],
   "source": [
    "data4.rename(columns={'Destination':'Destinations'},inplace=True)\n",
    "data4"
   ]
  },
  {
   "cell_type": "code",
   "execution_count": 250,
   "metadata": {},
   "outputs": [],
   "source": [
    "## timeout\n",
    "loc = timt.find_all('h3',attrs={'class':'_h3_cuogz_1'})\n",
    "places = [i.text for i in loc]\n",
    "\n"
   ]
  },
  {
   "cell_type": "code",
   "execution_count": 290,
   "metadata": {},
   "outputs": [
    {
     "data": {
      "text/plain": [
       "['The Pennine Way',\n",
       " 'The Slovene Mountain Trail',\n",
       " 'The Transcaucasian Trail',\n",
       " 'Kungsleden',\n",
       " 'The Harz Border Trail',\n",
       " 'The Hornstrandir Trail',\n",
       " 'The Mercantour Traverse',\n",
       " 'The Mettelhorn',\n",
       " 'The GR20']"
      ]
     },
     "execution_count": 290,
     "metadata": {},
     "output_type": "execute_result"
    }
   ],
   "source": [
    "places"
   ]
  },
  {
   "cell_type": "code",
   "execution_count": 292,
   "metadata": {},
   "outputs": [],
   "source": [
    "countries = []\n",
    "for loc2 in timt.find_all('div', attrs={'class':\"articleContent _articleContent_1p2xe_216\"}):\n",
    "    dest=loc2.p.text\n",
    "    country = dest.split(', ')[1]\n",
    "    countries.append(country)"
   ]
  },
  {
   "cell_type": "code",
   "execution_count": 294,
   "metadata": {},
   "outputs": [
    {
     "data": {
      "text/plain": [
       "['England',\n",
       " 'Slovenia',\n",
       " 'Georgia',\n",
       " 'Sweden',\n",
       " 'Germany',\n",
       " 'Iceland',\n",
       " 'France',\n",
       " 'Switzerland',\n",
       " 'Corsica']"
      ]
     },
     "execution_count": 294,
     "metadata": {},
     "output_type": "execute_result"
    }
   ],
   "source": [
    "countries"
   ]
  },
  {
   "cell_type": "code",
   "execution_count": 372,
   "metadata": {},
   "outputs": [],
   "source": [
    "data5 = pd.DataFrame({'Countries':countries,'Destination':places})\n",
    "data5['Activity']='Hiking'"
   ]
  },
  {
   "cell_type": "code",
   "execution_count": 392,
   "metadata": {},
   "outputs": [],
   "source": [
    "big_data = [data1,data2,data3,data4,data5]\n",
    "hiking_data=pd.concat(big_data, axis=0)\n",
    "\n"
   ]
  },
  {
   "cell_type": "code",
   "execution_count": 384,
   "metadata": {},
   "outputs": [],
   "source": [
    "data3.rename(columns={'Places':'Destinations'},inplace=True)"
   ]
  },
  {
   "cell_type": "code",
   "execution_count": 389,
   "metadata": {},
   "outputs": [],
   "source": [
    "data5.rename(columns={'Destination':'Destinations'},inplace=True)"
   ]
  },
  {
   "cell_type": "code",
   "execution_count": 390,
   "metadata": {},
   "outputs": [
    {
     "data": {
      "text/html": [
       "<div>\n",
       "<style scoped>\n",
       "    .dataframe tbody tr th:only-of-type {\n",
       "        vertical-align: middle;\n",
       "    }\n",
       "\n",
       "    .dataframe tbody tr th {\n",
       "        vertical-align: top;\n",
       "    }\n",
       "\n",
       "    .dataframe thead th {\n",
       "        text-align: right;\n",
       "    }\n",
       "</style>\n",
       "<table border=\"1\" class=\"dataframe\">\n",
       "  <thead>\n",
       "    <tr style=\"text-align: right;\">\n",
       "      <th></th>\n",
       "      <th>Countries</th>\n",
       "      <th>Destinations</th>\n",
       "      <th>Activity</th>\n",
       "    </tr>\n",
       "  </thead>\n",
       "  <tbody>\n",
       "    <tr>\n",
       "      <th>0</th>\n",
       "      <td>Spain</td>\n",
       "      <td>El Camino de Santiago</td>\n",
       "      <td>Hiking</td>\n",
       "    </tr>\n",
       "    <tr>\n",
       "      <th>1</th>\n",
       "      <td>France</td>\n",
       "      <td>Tour du Mont Blanc</td>\n",
       "      <td>Hiking</td>\n",
       "    </tr>\n",
       "    <tr>\n",
       "      <th>2</th>\n",
       "      <td>Switzerland</td>\n",
       "      <td>Haute Route</td>\n",
       "      <td>Hiking</td>\n",
       "    </tr>\n",
       "    <tr>\n",
       "      <th>3</th>\n",
       "      <td>Norway</td>\n",
       "      <td>Nordkalottruta</td>\n",
       "      <td>Hiking</td>\n",
       "    </tr>\n",
       "    <tr>\n",
       "      <th>4</th>\n",
       "      <td>Bulgaria</td>\n",
       "      <td>Kom-Emine</td>\n",
       "      <td>Hiking</td>\n",
       "    </tr>\n",
       "    <tr>\n",
       "      <th>5</th>\n",
       "      <td>Iceland</td>\n",
       "      <td>Laugavegur and Fimmvörðuháls</td>\n",
       "      <td>Hiking</td>\n",
       "    </tr>\n",
       "    <tr>\n",
       "      <th>6</th>\n",
       "      <td>Scotland</td>\n",
       "      <td>West Highland Way</td>\n",
       "      <td>Hiking</td>\n",
       "    </tr>\n",
       "    <tr>\n",
       "      <th>7</th>\n",
       "      <td>Italy</td>\n",
       "      <td>Grande Traversata delle Alpi</td>\n",
       "      <td>Hiking</td>\n",
       "    </tr>\n",
       "    <tr>\n",
       "      <th>8</th>\n",
       "      <td>Wales</td>\n",
       "      <td>Pembrokeshire Coastal Path</td>\n",
       "      <td>Hiking</td>\n",
       "    </tr>\n",
       "    <tr>\n",
       "      <th>9</th>\n",
       "      <td>Sweden</td>\n",
       "      <td>Kungsleden</td>\n",
       "      <td>Hiking</td>\n",
       "    </tr>\n",
       "    <tr>\n",
       "      <th>10</th>\n",
       "      <td>Slovenia</td>\n",
       "      <td>Slovenian Mountain Hiking Trail</td>\n",
       "      <td>Hiking</td>\n",
       "    </tr>\n",
       "    <tr>\n",
       "      <th>11</th>\n",
       "      <td>Italy</td>\n",
       "      <td>Cinque Terre Coastal Trail</td>\n",
       "      <td>Hiking</td>\n",
       "    </tr>\n",
       "  </tbody>\n",
       "</table>\n",
       "</div>"
      ],
      "text/plain": [
       "      Countries                     Destinations Activity\n",
       "0         Spain            El Camino de Santiago   Hiking\n",
       "1        France               Tour du Mont Blanc   Hiking\n",
       "2   Switzerland                      Haute Route   Hiking\n",
       "3        Norway                   Nordkalottruta   Hiking\n",
       "4      Bulgaria                        Kom-Emine   Hiking\n",
       "5       Iceland     Laugavegur and Fimmvörðuháls   Hiking\n",
       "6      Scotland                West Highland Way   Hiking\n",
       "7         Italy     Grande Traversata delle Alpi   Hiking\n",
       "8         Wales       Pembrokeshire Coastal Path   Hiking\n",
       "9        Sweden                       Kungsleden   Hiking\n",
       "10     Slovenia  Slovenian Mountain Hiking Trail   Hiking\n",
       "11        Italy       Cinque Terre Coastal Trail   Hiking"
      ]
     },
     "execution_count": 390,
     "metadata": {},
     "output_type": "execute_result"
    }
   ],
   "source": [
    "data5"
   ]
  },
  {
   "cell_type": "code",
   "execution_count": 417,
   "metadata": {},
   "outputs": [
    {
     "data": {
      "text/plain": [
       "array(['El Camino de Santiago', 'Mont Blanc', 'Haute Route',\n",
       "       'Nordkalottruta', 'Kom-Emine', 'Laugavegur and Fimmvörðuháls',\n",
       "       'West Highland Way', 'Grande Traversata delle Alpi',\n",
       "       'Pembrokeshire Coastal Path', 'Kungsleden', 'Slovenian Mountain',\n",
       "       'Cinque Terre Coastal Trail', 'Norwegian Fjords', 'Mount Triglav',\n",
       "       'Caucasus Mountains', 'Via Dinarica', 'The West Highland Way',\n",
       "       'Monte Rosa', 'Canary Islands', 'Laugavegurinn', 'High Tatras',\n",
       "       'GR20', 'Gran Paradiso National Park',\n",
       "       'Plitvice Lakes National Park', 'Circumnavigating the Matterhorn',\n",
       "       'El Caminito Del Ray', 'Trolltunga', 'Mt. Buet', 'Ladder of Kotor',\n",
       "       'Schwarzhorn', 'Pico do Areeiro', 'Besseggen Ridge',\n",
       "       'MorskieOko Lake to Rysy Park', 'Svartisen Glacier', 'Lac Blanc',\n",
       "       'The Flysch Route', 'Helvellyn', 'Seven Hanging Valleys',\n",
       "       'Lauterbrunnen', 'Knivskjellodden', \"Goethe's Path\",\n",
       "       'Samaria Gorge', 'Three peaks', 'The Kjeragbolten', 'Fairy Pools',\n",
       "       'Stavanger', 'Alta Via 1', 'The Kings Trail',\n",
       "       \"England's Coast to Coast\", 'Cinque Terre', 'Eagles Walk',\n",
       "       'Westweg', 'Camino de Santiago', 'Circumventing the Matterhorn',\n",
       "       'GR10', 'Hot Spring Route', 'Central Picos Circuit',\n",
       "       'Transylvanian Mountain Trail', 'Camino Dos Faros',\n",
       "       'Hardangervidda Transverse', 'Mullerthal'], dtype=object)"
      ]
     },
     "execution_count": 417,
     "metadata": {},
     "output_type": "execute_result"
    }
   ],
   "source": [
    "hiking_data['Destinations'].unique()"
   ]
  },
  {
   "cell_type": "code",
   "execution_count": 416,
   "metadata": {},
   "outputs": [],
   "source": [
    "hiking_data['Destinations'] = hiking_data['Destinations'].str.replace('.*Mont.Blanc.*','Mont Blanc', regex=True)    \n",
    "hiking_data['Destinations'] = hiking_data['Destinations'].str.replace('.*Slovenian.Mountain.*','Slovenian Mountain', regex=True)    \n",
    "hiking_data['Destinations'] = hiking_data['Destinations'].str.replace(' (Northern & Southern)','', regex=False) \n",
    "hiking_data['Destinations'] = hiking_data['Destinations'].str.replace('\\s?Tour\\s?','', regex=True)    \n",
    "hiking_data['Destinations'] = hiking_data['Destinations'].str.replace('de Monte Rosa','Monte Rosa', regex=False)    \n",
    "hiking_data['Destinations'] = hiking_data['Destinations'].str.replace('de Monte Rosa','Monte Rosa', regex=False)    \n",
    "\n",
    " "
   ]
  },
  {
   "cell_type": "code",
   "execution_count": 421,
   "metadata": {},
   "outputs": [],
   "source": [
    "hiking_data['Countries'].unique()\n",
    "hiking_data['Countries'] = hiking_data['Countries'].str.replace('France & Switzerland','Switzerland', regex=True)\n",
    "hiking_data['Countries'] = hiking_data['Countries'].str.replace('^\\s','', regex=True)\n",
    "hiking_data['Countries'] = hiking_data['Countries'].str.replace('Isle of Skye','Scotland', regex=True)\n",
    "hiking_data['Countries'] = hiking_data['Countries'].str.replace('Algarve','Portugal', regex=True)\n",
    "\n"
   ]
  },
  {
   "cell_type": "code",
   "execution_count": 422,
   "metadata": {},
   "outputs": [
    {
     "data": {
      "text/plain": [
       "array(['Spain', 'France', 'Switzerland', 'Norway', 'Bulgaria', 'Iceland',\n",
       "       'Scotland', 'Italy', 'Wales', 'Sweden', 'Slovenia', 'Georgia',\n",
       "       'The Balkans', 'Slovakia', 'Corsica', 'Croatia', 'Montenegro',\n",
       "       'Madeira', 'Poland', 'UK', 'Portugal', 'North Cap', 'Germany',\n",
       "       'Greece', 'Austria', 'Romania', 'Luxembourg'], dtype=object)"
      ]
     },
     "execution_count": 422,
     "metadata": {},
     "output_type": "execute_result"
    }
   ],
   "source": [
    "hiking_data['Countries'].unique()"
   ]
  },
  {
   "cell_type": "code",
   "execution_count": 427,
   "metadata": {},
   "outputs": [
    {
     "data": {
      "text/html": [
       "<div>\n",
       "<style scoped>\n",
       "    .dataframe tbody tr th:only-of-type {\n",
       "        vertical-align: middle;\n",
       "    }\n",
       "\n",
       "    .dataframe tbody tr th {\n",
       "        vertical-align: top;\n",
       "    }\n",
       "\n",
       "    .dataframe thead th {\n",
       "        text-align: right;\n",
       "    }\n",
       "</style>\n",
       "<table border=\"1\" class=\"dataframe\">\n",
       "  <thead>\n",
       "    <tr style=\"text-align: right;\">\n",
       "      <th></th>\n",
       "      <th>Countries</th>\n",
       "      <th>Destinations</th>\n",
       "      <th>Activity</th>\n",
       "    </tr>\n",
       "  </thead>\n",
       "  <tbody>\n",
       "    <tr>\n",
       "      <th>2</th>\n",
       "      <td>Switzerland</td>\n",
       "      <td>Haute Route</td>\n",
       "      <td>Hiking</td>\n",
       "    </tr>\n",
       "    <tr>\n",
       "      <th>3</th>\n",
       "      <td>Norway</td>\n",
       "      <td>Nordkalottruta</td>\n",
       "      <td>Hiking</td>\n",
       "    </tr>\n",
       "    <tr>\n",
       "      <th>4</th>\n",
       "      <td>Bulgaria</td>\n",
       "      <td>Kom-Emine</td>\n",
       "      <td>Hiking</td>\n",
       "    </tr>\n",
       "    <tr>\n",
       "      <th>5</th>\n",
       "      <td>Iceland</td>\n",
       "      <td>Laugavegur and Fimmvörðuháls</td>\n",
       "      <td>Hiking</td>\n",
       "    </tr>\n",
       "    <tr>\n",
       "      <th>6</th>\n",
       "      <td>Scotland</td>\n",
       "      <td>West Highland Way</td>\n",
       "      <td>Hiking</td>\n",
       "    </tr>\n",
       "    <tr>\n",
       "      <th>7</th>\n",
       "      <td>Italy</td>\n",
       "      <td>Grande Traversata delle Alpi</td>\n",
       "      <td>Hiking</td>\n",
       "    </tr>\n",
       "    <tr>\n",
       "      <th>8</th>\n",
       "      <td>Wales</td>\n",
       "      <td>Pembrokeshire Coastal Path</td>\n",
       "      <td>Hiking</td>\n",
       "    </tr>\n",
       "    <tr>\n",
       "      <th>9</th>\n",
       "      <td>Sweden</td>\n",
       "      <td>Kungsleden</td>\n",
       "      <td>Hiking</td>\n",
       "    </tr>\n",
       "    <tr>\n",
       "      <th>10</th>\n",
       "      <td>Slovenia</td>\n",
       "      <td>Slovenian Mountain</td>\n",
       "      <td>Hiking</td>\n",
       "    </tr>\n",
       "    <tr>\n",
       "      <th>11</th>\n",
       "      <td>Italy</td>\n",
       "      <td>Cinque Terre Coastal Trail</td>\n",
       "      <td>Hiking</td>\n",
       "    </tr>\n",
       "  </tbody>\n",
       "</table>\n",
       "</div>"
      ],
      "text/plain": [
       "      Countries                  Destinations Activity\n",
       "2   Switzerland                   Haute Route   Hiking\n",
       "3        Norway                Nordkalottruta   Hiking\n",
       "4      Bulgaria                     Kom-Emine   Hiking\n",
       "5       Iceland  Laugavegur and Fimmvörðuháls   Hiking\n",
       "6      Scotland             West Highland Way   Hiking\n",
       "7         Italy  Grande Traversata delle Alpi   Hiking\n",
       "8         Wales    Pembrokeshire Coastal Path   Hiking\n",
       "9        Sweden                    Kungsleden   Hiking\n",
       "10     Slovenia            Slovenian Mountain   Hiking\n",
       "11        Italy    Cinque Terre Coastal Trail   Hiking"
      ]
     },
     "execution_count": 427,
     "metadata": {},
     "output_type": "execute_result"
    }
   ],
   "source": [
    "hiking_data.tail(10)"
   ]
  }
 ],
 "metadata": {
  "kernelspec": {
   "display_name": "Python 3.9.13 ('Ironhack')",
   "language": "python",
   "name": "python3"
  },
  "language_info": {
   "codemirror_mode": {
    "name": "ipython",
    "version": 3
   },
   "file_extension": ".py",
   "mimetype": "text/x-python",
   "name": "python",
   "nbconvert_exporter": "python",
   "pygments_lexer": "ipython3",
   "version": "3.9.13"
  },
  "orig_nbformat": 4,
  "vscode": {
   "interpreter": {
    "hash": "985844dc686bf8bc52028a38ef08654e50758646994bdb41b244f06f0e25b2ae"
   }
  }
 },
 "nbformat": 4,
 "nbformat_minor": 2
}
