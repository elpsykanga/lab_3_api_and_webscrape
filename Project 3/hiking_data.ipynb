{
 "cells": [
  {
   "cell_type": "code",
   "execution_count": 51,
   "metadata": {},
   "outputs": [],
   "source": [
    "import pandas as pd\n",
    "from bs4 import BeautifulSoup\n",
    "import requests\n",
    "import re"
   ]
  },
  {
   "cell_type": "code",
   "execution_count": 52,
   "metadata": {},
   "outputs": [],
   "source": [
    "url1 = 'https://thetrek.co/11-long-trails-to-hike-in-europe/'\n",
    "url2 = 'https://www.muchbetteradventures.com/magazine/the-20-best-hikes-in-europe/'\n",
    "url3 = 'https://www.ridestore.com/mag/best-hikes-in-europe/'\n",
    "url4 = 'https://www.theadventurejunkies.com/best-hikes-in-europe/'\n",
    "url5 = 'https://www.timeout.com/europe/things-to-do/best-hikes-walking-trails-in-europe'"
   ]
  },
  {
   "cell_type": "code",
   "execution_count": 53,
   "metadata": {},
   "outputs": [],
   "source": [
    "response = requests.get(url1)\n"
   ]
  },
  {
   "cell_type": "code",
   "execution_count": 54,
   "metadata": {},
   "outputs": [],
   "source": [
    "soup = BeautifulSoup(response.content)"
   ]
  },
  {
   "cell_type": "code",
   "execution_count": 55,
   "metadata": {},
   "outputs": [],
   "source": [
    "url_list=[url1,url2,url3,url4,url5]\n",
    "\n",
    "def hot_soup(com):\n",
    "    response = requests.get(com)\n",
    "    soup = BeautifulSoup(response.content)\n",
    "    return soup\n"
   ]
  },
  {
   "cell_type": "code",
   "execution_count": 56,
   "metadata": {},
   "outputs": [],
   "source": [
    "soup_list=[]\n",
    "for i in range(len(url_list)):\n",
    "    out = hot_soup(url_list[i])\n",
    "    soup_list.append(out)"
   ]
  },
  {
   "cell_type": "code",
   "execution_count": 57,
   "metadata": {},
   "outputs": [],
   "source": [
    "\n",
    "soup_list\n",
    "\n",
    "trek = soup_list[0]\n",
    "mbeta = soup_list[1]\n",
    "ridst = soup_list[2]\n",
    "theadv = soup_list[3]\n",
    "timt = soup_list[4]\n"
   ]
  },
  {
   "cell_type": "markdown",
   "metadata": {},
   "source": [
    "#### The Trek"
   ]
  },
  {
   "cell_type": "code",
   "execution_count": 58,
   "metadata": {},
   "outputs": [],
   "source": [
    "loc=['Spain,El Camino de Santiago',\n",
    "'France,Tour du Mont Blanc',\n",
    "'Switzerland,Haute Route',\n",
    "'Norway,Nordkalottruta',\n",
    "'Bulgaria,Kom-Emine',\n",
    "'Iceland,Laugavegur and Fimmvörðuháls',\n",
    "'Scotland,West Highland Way',\n",
    "'Italy,Grande Traversata delle Alpi',\n",
    "'Wales,Pembrokeshire Coastal Path',\n",
    "'Sweden,Kungsleden',\n",
    "'Slovenia,Slovenian Mountain Hiking Trail',\n",
    "'Italy,Cinque Terre Coastal Trail']\n",
    "plac=[plac.split(',') for plac in loc]"
   ]
  },
  {
   "cell_type": "code",
   "execution_count": 59,
   "metadata": {},
   "outputs": [],
   "source": [
    "countries = []\n",
    "places = []\n",
    "for i in plac:\n",
    "    countries.append(i[0])\n",
    "    places.append(i[1])\n",
    "data1 = pd.DataFrame({'Countries':countries,'Destinations':places})"
   ]
  },
  {
   "cell_type": "code",
   "execution_count": 60,
   "metadata": {},
   "outputs": [],
   "source": [
    "data1['Activity']='Hiking'"
   ]
  },
  {
   "cell_type": "code",
   "execution_count": null,
   "metadata": {},
   "outputs": [],
   "source": []
  },
  {
   "cell_type": "code",
   "execution_count": 61,
   "metadata": {},
   "outputs": [
    {
     "name": "stdout",
     "output_type": "stream",
     "text": [
      "['Tour de Mont Blanc', 'Norwegian Fjords', 'Mount Triglav', 'Caucasus Mountains', 'Via Dinarica', 'The West Highland Way', 'Tour de Monte Rosa', 'Canary Islands', 'Laugavegurinn', 'Haute Route', 'High Tatras', 'GR20 (Northern & Southern)', 'Mont Blanc', 'Gran Paradiso National Park', 'Plitvice Lakes National Park', 'Circumnavigating the Matterhorn']\n",
      "['France', 'Norway', 'Slovenia', 'Georgia', 'The Balkans', 'Scotland', 'Italy', 'Spain', 'Iceland', 'France & Switzerland', 'Slovakia', 'Corsica', 'France', 'Italy', 'Croatia', 'Switzerland']\n"
     ]
    }
   ],
   "source": [
    "## muchbetteradventures\n",
    "loc = mbeta.find_all('h2')\n",
    "dirt=[i.text for i in loc[2:20]]\n",
    "destination2=[]\n",
    "for lis in dirt:\n",
    "    z = re.sub('\\d+\\.\\s','',lis)\n",
    "    destination2.append(z)\n",
    "\n",
    "\n",
    "countries = []\n",
    "places = []\n",
    "for l in destination2[0:16]:\n",
    "    q=l.split(', ')\n",
    "    places.append(q[0])\n",
    "    countries.append(q[1])\n",
    "print(places) \n",
    "print(countries)\n"
   ]
  },
  {
   "cell_type": "code",
   "execution_count": 62,
   "metadata": {},
   "outputs": [],
   "source": [
    "\n",
    "data2 = pd.DataFrame({'Countries':countries,'Destinations':places})\n"
   ]
  },
  {
   "cell_type": "code",
   "execution_count": 63,
   "metadata": {},
   "outputs": [],
   "source": [
    "##ridestore\n",
    "loc=(ridst.find_all('h3'))\n",
    "loc = [i.text for i in loc]\n",
    "destination3 = []\n",
    "for w in loc:\n",
    "    z=re.sub('\\d+\\.\\s','',w)\n",
    "    q = re.sub('\\s*-\\s*',',',z)\n",
    "    l = re.sub('\\s*–\\s*',',',q)\n",
    "    destination3.append(l)\n"
   ]
  },
  {
   "cell_type": "code",
   "execution_count": 64,
   "metadata": {},
   "outputs": [
    {
     "name": "stdout",
     "output_type": "stream",
     "text": [
      "['Adrspach', 'Teplice Rock Towns']\n",
      "['Dream Trail', ' Munich to Venice', 'Germany']\n",
      "['Alpe Adria', 'Austria']\n"
     ]
    }
   ],
   "source": [
    "locations3 = []\n",
    "for sent in destination3:\n",
    "    s = sent.split(',')\n",
    "    if len(s)==2:\n",
    "        locations3.append(s)\n",
    "    elif len(s)>2:\n",
    "        s.pop(len(s)-1)\n",
    "        if len(s)>2:\n",
    "            s.pop(len(s)-1)\n",
    "            print(s)\n",
    "        else:\n",
    "            locations3.append(s)\n",
    "    else:\n",
    "        print('error')\n",
    "\n",
    "countries = []\n",
    "places = []\n",
    "for q in locations3:\n",
    "    countries.append(q[1])\n",
    "    places.append(q[0])\n",
    "\n"
   ]
  },
  {
   "cell_type": "code",
   "execution_count": 65,
   "metadata": {},
   "outputs": [],
   "source": [
    "data2['Activity']='Hiking'"
   ]
  },
  {
   "cell_type": "code",
   "execution_count": 66,
   "metadata": {},
   "outputs": [],
   "source": [
    "data3 = pd.DataFrame({'Countries':countries,'Destinations':places})"
   ]
  },
  {
   "cell_type": "code",
   "execution_count": 67,
   "metadata": {},
   "outputs": [],
   "source": [
    "data3['Activity']='Hiking'"
   ]
  },
  {
   "cell_type": "code",
   "execution_count": 68,
   "metadata": {},
   "outputs": [],
   "source": [
    "## the adventure junkies\n",
    "loc=theadv.find_all('h2')\n",
    "loc=[x.text for x in loc[:(len(loc)-1)]]\n",
    "countries= []\n",
    "places = []\n",
    "dl = []\n",
    "for q in loc:\n",
    "    q = (re.sub('–',',',q)).capitalize()\n",
    "    q = q.split(',')\n",
    "    if len(q)>2:\n",
    "        q.pop(1)\n",
    "        dl.append(q)\n",
    "    else:\n",
    "        dl.append(q)\n",
    "\n",
    "\n",
    "for q in dl:\n",
    "    countries.append(q[1])\n",
    "    places.append(q[0])\n",
    "countries[0] = 'france'\n",
    "\n",
    "\n",
    "\n",
    "\n"
   ]
  },
  {
   "cell_type": "code",
   "execution_count": 69,
   "metadata": {},
   "outputs": [],
   "source": [
    "countries=[(re.sub('\\s','',i)).capitalize() for i in countries]\n"
   ]
  },
  {
   "cell_type": "code",
   "execution_count": 70,
   "metadata": {},
   "outputs": [],
   "source": [
    "places=[re.sub('\\s$','',e) for e in places]"
   ]
  },
  {
   "cell_type": "code",
   "execution_count": 71,
   "metadata": {},
   "outputs": [],
   "source": [
    "data4=pd.DataFrame({'Countries':countries,'Destination':places})\n",
    "data4['Activity']='Hiking'"
   ]
  },
  {
   "cell_type": "code",
   "execution_count": 72,
   "metadata": {},
   "outputs": [],
   "source": [
    "data4['Activity']='Hiking'"
   ]
  },
  {
   "cell_type": "code",
   "execution_count": 73,
   "metadata": {},
   "outputs": [
    {
     "data": {
      "text/html": [
       "<div>\n",
       "<style scoped>\n",
       "    .dataframe tbody tr th:only-of-type {\n",
       "        vertical-align: middle;\n",
       "    }\n",
       "\n",
       "    .dataframe tbody tr th {\n",
       "        vertical-align: top;\n",
       "    }\n",
       "\n",
       "    .dataframe thead th {\n",
       "        text-align: right;\n",
       "    }\n",
       "</style>\n",
       "<table border=\"1\" class=\"dataframe\">\n",
       "  <thead>\n",
       "    <tr style=\"text-align: right;\">\n",
       "      <th></th>\n",
       "      <th>Activity</th>\n",
       "      <th>Countries</th>\n",
       "      <th>Destination</th>\n",
       "    </tr>\n",
       "  </thead>\n",
       "  <tbody>\n",
       "    <tr>\n",
       "      <th>0</th>\n",
       "      <td>Hiking</td>\n",
       "      <td>France</td>\n",
       "      <td>Tour du mont blanc</td>\n",
       "    </tr>\n",
       "    <tr>\n",
       "      <th>1</th>\n",
       "      <td>Hiking</td>\n",
       "      <td>Italy</td>\n",
       "      <td>Alta via 1</td>\n",
       "    </tr>\n",
       "    <tr>\n",
       "      <th>2</th>\n",
       "      <td>Hiking</td>\n",
       "      <td>Sweden</td>\n",
       "      <td>The kings trail</td>\n",
       "    </tr>\n",
       "    <tr>\n",
       "      <th>3</th>\n",
       "      <td>Hiking</td>\n",
       "      <td>Corsica</td>\n",
       "      <td>Gr20</td>\n",
       "    </tr>\n",
       "    <tr>\n",
       "      <th>4</th>\n",
       "      <td>Hiking</td>\n",
       "      <td>Iceland</td>\n",
       "      <td>Hot spring route</td>\n",
       "    </tr>\n",
       "    <tr>\n",
       "      <th>5</th>\n",
       "      <td>Hiking</td>\n",
       "      <td>Slovenia</td>\n",
       "      <td>Slovenian mountain trail</td>\n",
       "    </tr>\n",
       "    <tr>\n",
       "      <th>6</th>\n",
       "      <td>Hiking</td>\n",
       "      <td>Switzerland</td>\n",
       "      <td>Haute route</td>\n",
       "    </tr>\n",
       "    <tr>\n",
       "      <th>7</th>\n",
       "      <td>Hiking</td>\n",
       "      <td>Italy</td>\n",
       "      <td>Cinque terre coastal trail</td>\n",
       "    </tr>\n",
       "    <tr>\n",
       "      <th>8</th>\n",
       "      <td>Hiking</td>\n",
       "      <td>Austria</td>\n",
       "      <td>Eagles walk</td>\n",
       "    </tr>\n",
       "    <tr>\n",
       "      <th>9</th>\n",
       "      <td>Hiking</td>\n",
       "      <td>Spain</td>\n",
       "      <td>Camino de santiago</td>\n",
       "    </tr>\n",
       "    <tr>\n",
       "      <th>10</th>\n",
       "      <td>Hiking</td>\n",
       "      <td>Germany</td>\n",
       "      <td>Westweg trail</td>\n",
       "    </tr>\n",
       "    <tr>\n",
       "      <th>11</th>\n",
       "      <td>Hiking</td>\n",
       "      <td>Scotland</td>\n",
       "      <td>West highland way</td>\n",
       "    </tr>\n",
       "    <tr>\n",
       "      <th>12</th>\n",
       "      <td>Hiking</td>\n",
       "      <td>Spain</td>\n",
       "      <td>Central picos circuit</td>\n",
       "    </tr>\n",
       "    <tr>\n",
       "      <th>13</th>\n",
       "      <td>Hiking</td>\n",
       "      <td>Romania</td>\n",
       "      <td>Retezat mountains</td>\n",
       "    </tr>\n",
       "    <tr>\n",
       "      <th>14</th>\n",
       "      <td>Hiking</td>\n",
       "      <td>Norway</td>\n",
       "      <td>Hardangervidda transverse</td>\n",
       "    </tr>\n",
       "  </tbody>\n",
       "</table>\n",
       "</div>"
      ],
      "text/plain": [
       "   Activity    Countries                 Destination\n",
       "0    Hiking       France          Tour du mont blanc\n",
       "1    Hiking        Italy                  Alta via 1\n",
       "2    Hiking       Sweden             The kings trail\n",
       "3    Hiking      Corsica                        Gr20\n",
       "4    Hiking      Iceland            Hot spring route\n",
       "5    Hiking     Slovenia    Slovenian mountain trail\n",
       "6    Hiking  Switzerland                 Haute route\n",
       "7    Hiking        Italy  Cinque terre coastal trail\n",
       "8    Hiking      Austria                 Eagles walk\n",
       "9    Hiking        Spain          Camino de santiago\n",
       "10   Hiking      Germany               Westweg trail\n",
       "11   Hiking     Scotland           West highland way\n",
       "12   Hiking        Spain       Central picos circuit\n",
       "13   Hiking      Romania           Retezat mountains\n",
       "14   Hiking       Norway   Hardangervidda transverse"
      ]
     },
     "execution_count": 73,
     "metadata": {},
     "output_type": "execute_result"
    }
   ],
   "source": [
    "data4 = data4[['Activity','Countries','Destination']]\n",
    "data4"
   ]
  },
  {
   "cell_type": "code",
   "execution_count": 74,
   "metadata": {},
   "outputs": [
    {
     "data": {
      "text/html": [
       "<div>\n",
       "<style scoped>\n",
       "    .dataframe tbody tr th:only-of-type {\n",
       "        vertical-align: middle;\n",
       "    }\n",
       "\n",
       "    .dataframe tbody tr th {\n",
       "        vertical-align: top;\n",
       "    }\n",
       "\n",
       "    .dataframe thead th {\n",
       "        text-align: right;\n",
       "    }\n",
       "</style>\n",
       "<table border=\"1\" class=\"dataframe\">\n",
       "  <thead>\n",
       "    <tr style=\"text-align: right;\">\n",
       "      <th></th>\n",
       "      <th>Activity</th>\n",
       "      <th>Countries</th>\n",
       "      <th>Destinations</th>\n",
       "    </tr>\n",
       "  </thead>\n",
       "  <tbody>\n",
       "    <tr>\n",
       "      <th>0</th>\n",
       "      <td>Hiking</td>\n",
       "      <td>France</td>\n",
       "      <td>Tour du mont blanc</td>\n",
       "    </tr>\n",
       "    <tr>\n",
       "      <th>1</th>\n",
       "      <td>Hiking</td>\n",
       "      <td>Italy</td>\n",
       "      <td>Alta via 1</td>\n",
       "    </tr>\n",
       "    <tr>\n",
       "      <th>2</th>\n",
       "      <td>Hiking</td>\n",
       "      <td>Sweden</td>\n",
       "      <td>The kings trail</td>\n",
       "    </tr>\n",
       "    <tr>\n",
       "      <th>3</th>\n",
       "      <td>Hiking</td>\n",
       "      <td>Corsica</td>\n",
       "      <td>Gr20</td>\n",
       "    </tr>\n",
       "    <tr>\n",
       "      <th>4</th>\n",
       "      <td>Hiking</td>\n",
       "      <td>Iceland</td>\n",
       "      <td>Hot spring route</td>\n",
       "    </tr>\n",
       "    <tr>\n",
       "      <th>5</th>\n",
       "      <td>Hiking</td>\n",
       "      <td>Slovenia</td>\n",
       "      <td>Slovenian mountain trail</td>\n",
       "    </tr>\n",
       "    <tr>\n",
       "      <th>6</th>\n",
       "      <td>Hiking</td>\n",
       "      <td>Switzerland</td>\n",
       "      <td>Haute route</td>\n",
       "    </tr>\n",
       "    <tr>\n",
       "      <th>7</th>\n",
       "      <td>Hiking</td>\n",
       "      <td>Italy</td>\n",
       "      <td>Cinque terre coastal trail</td>\n",
       "    </tr>\n",
       "    <tr>\n",
       "      <th>8</th>\n",
       "      <td>Hiking</td>\n",
       "      <td>Austria</td>\n",
       "      <td>Eagles walk</td>\n",
       "    </tr>\n",
       "    <tr>\n",
       "      <th>9</th>\n",
       "      <td>Hiking</td>\n",
       "      <td>Spain</td>\n",
       "      <td>Camino de santiago</td>\n",
       "    </tr>\n",
       "    <tr>\n",
       "      <th>10</th>\n",
       "      <td>Hiking</td>\n",
       "      <td>Germany</td>\n",
       "      <td>Westweg trail</td>\n",
       "    </tr>\n",
       "    <tr>\n",
       "      <th>11</th>\n",
       "      <td>Hiking</td>\n",
       "      <td>Scotland</td>\n",
       "      <td>West highland way</td>\n",
       "    </tr>\n",
       "    <tr>\n",
       "      <th>12</th>\n",
       "      <td>Hiking</td>\n",
       "      <td>Spain</td>\n",
       "      <td>Central picos circuit</td>\n",
       "    </tr>\n",
       "    <tr>\n",
       "      <th>13</th>\n",
       "      <td>Hiking</td>\n",
       "      <td>Romania</td>\n",
       "      <td>Retezat mountains</td>\n",
       "    </tr>\n",
       "    <tr>\n",
       "      <th>14</th>\n",
       "      <td>Hiking</td>\n",
       "      <td>Norway</td>\n",
       "      <td>Hardangervidda transverse</td>\n",
       "    </tr>\n",
       "  </tbody>\n",
       "</table>\n",
       "</div>"
      ],
      "text/plain": [
       "   Activity    Countries                Destinations\n",
       "0    Hiking       France          Tour du mont blanc\n",
       "1    Hiking        Italy                  Alta via 1\n",
       "2    Hiking       Sweden             The kings trail\n",
       "3    Hiking      Corsica                        Gr20\n",
       "4    Hiking      Iceland            Hot spring route\n",
       "5    Hiking     Slovenia    Slovenian mountain trail\n",
       "6    Hiking  Switzerland                 Haute route\n",
       "7    Hiking        Italy  Cinque terre coastal trail\n",
       "8    Hiking      Austria                 Eagles walk\n",
       "9    Hiking        Spain          Camino de santiago\n",
       "10   Hiking      Germany               Westweg trail\n",
       "11   Hiking     Scotland           West highland way\n",
       "12   Hiking        Spain       Central picos circuit\n",
       "13   Hiking      Romania           Retezat mountains\n",
       "14   Hiking       Norway   Hardangervidda transverse"
      ]
     },
     "execution_count": 74,
     "metadata": {},
     "output_type": "execute_result"
    }
   ],
   "source": [
    "data4.rename(columns={'Destination':'Destinations'},inplace=True)\n",
    "data4"
   ]
  },
  {
   "cell_type": "code",
   "execution_count": 75,
   "metadata": {},
   "outputs": [],
   "source": [
    "## timeout\n",
    "loc = timt.find_all('h3',attrs={'class':'_h3_cuogz_1'})\n",
    "places = [i.text for i in loc]\n",
    "\n"
   ]
  },
  {
   "cell_type": "code",
   "execution_count": 76,
   "metadata": {},
   "outputs": [
    {
     "data": {
      "text/plain": [
       "['The Pennine Way',\n",
       " 'The Slovene Mountain Trail',\n",
       " 'The Transcaucasian Trail',\n",
       " 'Kungsleden',\n",
       " 'The Harz Border Trail',\n",
       " 'The Hornstrandir Trail',\n",
       " 'The Mercantour Traverse',\n",
       " 'The Mettelhorn',\n",
       " 'The GR20']"
      ]
     },
     "execution_count": 76,
     "metadata": {},
     "output_type": "execute_result"
    }
   ],
   "source": [
    "places"
   ]
  },
  {
   "cell_type": "code",
   "execution_count": 77,
   "metadata": {},
   "outputs": [],
   "source": [
    "countries = []\n",
    "for loc2 in timt.find_all('div', attrs={'class':\"articleContent _articleContent_1p2xe_216\"}):\n",
    "    dest=loc2.p.text\n",
    "    country = dest.split(', ')[1]\n",
    "    countries.append(country)"
   ]
  },
  {
   "cell_type": "code",
   "execution_count": 78,
   "metadata": {},
   "outputs": [
    {
     "data": {
      "text/plain": [
       "['England',\n",
       " 'Slovenia',\n",
       " 'Georgia',\n",
       " 'Sweden',\n",
       " 'Germany',\n",
       " 'Iceland',\n",
       " 'France',\n",
       " 'Switzerland',\n",
       " 'Corsica']"
      ]
     },
     "execution_count": 78,
     "metadata": {},
     "output_type": "execute_result"
    }
   ],
   "source": [
    "countries"
   ]
  },
  {
   "cell_type": "code",
   "execution_count": 79,
   "metadata": {},
   "outputs": [],
   "source": [
    "data5 = pd.DataFrame({'Countries':countries,'Destinations':places})\n",
    "data5['Activity']='Hiking'"
   ]
  },
  {
   "cell_type": "code",
   "execution_count": null,
   "metadata": {},
   "outputs": [],
   "source": []
  },
  {
   "cell_type": "code",
   "execution_count": 80,
   "metadata": {},
   "outputs": [],
   "source": [
    "big_data = [data1,data2,data3,data4,data5]\n",
    "hiking_data=pd.concat(big_data, axis=0)\n",
    "\n"
   ]
  },
  {
   "cell_type": "code",
   "execution_count": null,
   "metadata": {},
   "outputs": [],
   "source": []
  },
  {
   "cell_type": "code",
   "execution_count": 81,
   "metadata": {},
   "outputs": [
    {
     "data": {
      "text/html": [
       "<div>\n",
       "<style scoped>\n",
       "    .dataframe tbody tr th:only-of-type {\n",
       "        vertical-align: middle;\n",
       "    }\n",
       "\n",
       "    .dataframe tbody tr th {\n",
       "        vertical-align: top;\n",
       "    }\n",
       "\n",
       "    .dataframe thead th {\n",
       "        text-align: right;\n",
       "    }\n",
       "</style>\n",
       "<table border=\"1\" class=\"dataframe\">\n",
       "  <thead>\n",
       "    <tr style=\"text-align: right;\">\n",
       "      <th></th>\n",
       "      <th>Countries</th>\n",
       "      <th>Destinations</th>\n",
       "      <th>Activity</th>\n",
       "    </tr>\n",
       "  </thead>\n",
       "  <tbody>\n",
       "    <tr>\n",
       "      <th>0</th>\n",
       "      <td>England</td>\n",
       "      <td>The Pennine Way</td>\n",
       "      <td>Hiking</td>\n",
       "    </tr>\n",
       "    <tr>\n",
       "      <th>1</th>\n",
       "      <td>Slovenia</td>\n",
       "      <td>The Slovene Mountain Trail</td>\n",
       "      <td>Hiking</td>\n",
       "    </tr>\n",
       "    <tr>\n",
       "      <th>2</th>\n",
       "      <td>Georgia</td>\n",
       "      <td>The Transcaucasian Trail</td>\n",
       "      <td>Hiking</td>\n",
       "    </tr>\n",
       "    <tr>\n",
       "      <th>3</th>\n",
       "      <td>Sweden</td>\n",
       "      <td>Kungsleden</td>\n",
       "      <td>Hiking</td>\n",
       "    </tr>\n",
       "    <tr>\n",
       "      <th>4</th>\n",
       "      <td>Germany</td>\n",
       "      <td>The Harz Border Trail</td>\n",
       "      <td>Hiking</td>\n",
       "    </tr>\n",
       "    <tr>\n",
       "      <th>5</th>\n",
       "      <td>Iceland</td>\n",
       "      <td>The Hornstrandir Trail</td>\n",
       "      <td>Hiking</td>\n",
       "    </tr>\n",
       "    <tr>\n",
       "      <th>6</th>\n",
       "      <td>France</td>\n",
       "      <td>The Mercantour Traverse</td>\n",
       "      <td>Hiking</td>\n",
       "    </tr>\n",
       "    <tr>\n",
       "      <th>7</th>\n",
       "      <td>Switzerland</td>\n",
       "      <td>The Mettelhorn</td>\n",
       "      <td>Hiking</td>\n",
       "    </tr>\n",
       "    <tr>\n",
       "      <th>8</th>\n",
       "      <td>Corsica</td>\n",
       "      <td>The GR20</td>\n",
       "      <td>Hiking</td>\n",
       "    </tr>\n",
       "  </tbody>\n",
       "</table>\n",
       "</div>"
      ],
      "text/plain": [
       "     Countries                Destinations Activity\n",
       "0      England             The Pennine Way   Hiking\n",
       "1     Slovenia  The Slovene Mountain Trail   Hiking\n",
       "2      Georgia    The Transcaucasian Trail   Hiking\n",
       "3       Sweden                  Kungsleden   Hiking\n",
       "4      Germany       The Harz Border Trail   Hiking\n",
       "5      Iceland      The Hornstrandir Trail   Hiking\n",
       "6       France     The Mercantour Traverse   Hiking\n",
       "7  Switzerland              The Mettelhorn   Hiking\n",
       "8      Corsica                    The GR20   Hiking"
      ]
     },
     "execution_count": 81,
     "metadata": {},
     "output_type": "execute_result"
    }
   ],
   "source": [
    "data5"
   ]
  },
  {
   "cell_type": "code",
   "execution_count": null,
   "metadata": {},
   "outputs": [],
   "source": []
  },
  {
   "cell_type": "code",
   "execution_count": 105,
   "metadata": {},
   "outputs": [],
   "source": [
    "hiking_data['Destinations'] = hiking_data['Destinations'].str.replace('.*Slovenian.Mountain.*','Slovenian Mountain', regex=True)    \n",
    "hiking_data['Destinations'] = hiking_data['Destinations'].str.replace(' (Northern & Southern)','', regex=False) \n",
    "hiking_data['Destinations'] = hiking_data['Destinations'].str.replace('\\s?Tour\\s?','', regex=True)    \n",
    "hiking_data['Destinations'] = hiking_data['Destinations'].str.replace('de Monte Rosa','Monte Rosa', regex=False)    \n",
    "hiking_data['Destinations'] = hiking_data['Destinations'].str.replace('de Monte Rosa','Monte Rosa', regex=False)\n",
    "hiking_data['Destinations'] = hiking_data['Destinations'].str.replace('[tT]he\\s+','', regex=True)\n",
    "hiking_data['Destinations'] = hiking_data['Destinations'].str.replace('.*[Mm]ont.[bB]lanc.*','Mont Blanc', regex=True)    \n",
    "hiking_data['Destinations'] = hiking_data['Destinations'].str.replace('.*[Kk]ings.[Tt]rail.*','Kings Trail', regex=True)\n",
    "hiking_data['Destinations'] = hiking_data['Destinations'].str.replace('\\s?-\\s?',' ', regex=True)\n",
    "hiking_data['Destinations'] = hiking_data['Destinations'].str.replace('',' ', regex=True) \n",
    "\n",
    "  \n",
    "\n",
    "\n",
    "\n",
    " "
   ]
  },
  {
   "cell_type": "code",
   "execution_count": 84,
   "metadata": {},
   "outputs": [],
   "source": [
    "hiking_data['Countries'].unique()\n",
    "hiking_data['Countries'] = hiking_data['Countries'].str.replace('France & Switzerland','Switzerland', regex=True)\n",
    "hiking_data['Countries'] = hiking_data['Countries'].str.replace('^\\s','', regex=True)\n",
    "hiking_data['Countries'] = hiking_data['Countries'].str.replace('Isle of Skye','Scotland', regex=True)\n",
    "hiking_data['Countries'] = hiking_data['Countries'].str.replace('Algarve','Portugal', regex=True)\n",
    "\n"
   ]
  },
  {
   "cell_type": "code",
   "execution_count": 106,
   "metadata": {},
   "outputs": [
    {
     "data": {
      "text/plain": [
       "array(['El Camino de Santiago', 'Mont Blanc', 'Haute Route',\n",
       "       'Nordkalottruta', 'Kom Emine', 'Laugavegur and Fimmvörðuháls',\n",
       "       'West Highland Way', 'Grande Traversata delle Alpi',\n",
       "       'Pembrokeshire Coastal Path', 'Kungsleden', 'Slovenian Mountain',\n",
       "       'Cinque Terre Coastal Trail', 'Norwegian Fjords', 'Mount Triglav',\n",
       "       'Caucasus Mountains', 'Via Dinarica', 'Monte Rosa',\n",
       "       'Canary Islands', 'Laugavegurinn', 'High Tatras', 'GR20',\n",
       "       'Gran Paradiso National Park', 'Plitvice Lakes National Park',\n",
       "       'Circumnavigating Matterhorn', 'El Caminito Del Ray', 'Trolltunga',\n",
       "       'Mt. Buet', 'Ladder of Kotor', 'Schwarzhorn', 'Pico do Areeiro',\n",
       "       'Besseggen Ridge', 'MorskieOko Lake to Rysy Park',\n",
       "       'Svartisen Glacier', 'Lac Blanc', 'Flysch Route', 'Helvellyn',\n",
       "       'Seven Hanging Valleys', 'Lauterbrunnen', 'Knivskjellodden',\n",
       "       \"Goethe's Path\", 'Samaria Gorge', 'Three peaks', 'Kjeragbolten',\n",
       "       'Fairy Pools', 'Stavanger', 'Alta Via 1', 'Kings Trail',\n",
       "       \"England's Coast to Coast\", 'Cinque Terre', 'Eagles Walk',\n",
       "       'Westweg', 'Camino de Santiago', 'Circumventing Matterhorn',\n",
       "       'GR10', 'Hot Spring Route', 'Central Picos Circuit',\n",
       "       'Transylvanian Mountain Trail', 'Camino Dos Faros',\n",
       "       'Hardangervidda Transverse', 'Mullerthal', 'Alta via 1', 'Gr20',\n",
       "       'Hot spring route', 'Slovenian mountain trail', 'Haute route',\n",
       "       'Cinque terre coastal trail', 'Eagles walk', 'Camino de santiago',\n",
       "       'Westweg trail', 'West highland way', 'Central picos circuit',\n",
       "       'Retezat mountains', 'Hardangervidda transverse', 'Pennine Way',\n",
       "       'Slovene Mountain Trail', 'Transcaucasian Trail',\n",
       "       'Harz Border Trail', 'Hornstrandir Trail', 'Mercantour Traverse',\n",
       "       'Mettelhorn'], dtype=object)"
      ]
     },
     "execution_count": 106,
     "metadata": {},
     "output_type": "execute_result"
    }
   ],
   "source": [
    "hiking_data['Destinations'].unique()"
   ]
  },
  {
   "cell_type": "code",
   "execution_count": 110,
   "metadata": {},
   "outputs": [],
   "source": [
    "def word_fix(column):\n",
    "    column=column.lower()\n",
    "    column=column.capitalize()\n",
    "    return column\n",
    "\n"
   ]
  },
  {
   "cell_type": "code",
   "execution_count": 111,
   "metadata": {},
   "outputs": [
    {
     "data": {
      "text/plain": [
       "0    El camino de santiago\n",
       "1               Mont blanc\n",
       "2              Haute route\n",
       "3           Nordkalottruta\n",
       "4                Kom emine\n",
       "             ...          \n",
       "4        Harz border trail\n",
       "5       Hornstrandir trail\n",
       "6      Mercantour traverse\n",
       "7               Mettelhorn\n",
       "8                     Gr20\n",
       "Name: Destinations, Length: 99, dtype: object"
      ]
     },
     "execution_count": 111,
     "metadata": {},
     "output_type": "execute_result"
    }
   ],
   "source": [
    "hiking_data['Destinations'].apply(word_fix)"
   ]
  },
  {
   "cell_type": "code",
   "execution_count": 116,
   "metadata": {},
   "outputs": [],
   "source": [
    "hiking_data.to_csv(r'hiking_data.csv',index=False)"
   ]
  }
 ],
 "metadata": {
  "kernelspec": {
   "display_name": "Python 3.9.13 ('Ironhack')",
   "language": "python",
   "name": "python3"
  },
  "language_info": {
   "codemirror_mode": {
    "name": "ipython",
    "version": 3
   },
   "file_extension": ".py",
   "mimetype": "text/x-python",
   "name": "python",
   "nbconvert_exporter": "python",
   "pygments_lexer": "ipython3",
   "version": "3.9.13"
  },
  "orig_nbformat": 4,
  "vscode": {
   "interpreter": {
    "hash": "985844dc686bf8bc52028a38ef08654e50758646994bdb41b244f06f0e25b2ae"
   }
  }
 },
 "nbformat": 4,
 "nbformat_minor": 2
}
