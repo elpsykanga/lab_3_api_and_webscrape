{
 "cells": [
  {
   "cell_type": "code",
   "execution_count": 3,
   "metadata": {},
   "outputs": [],
   "source": [
    "import pandas as pd"
   ]
  },
  {
   "cell_type": "code",
   "execution_count": 10,
   "metadata": {},
   "outputs": [],
   "source": [
    "hiking_data=pd.read_csv('hiking_data.csv')\n",
    "surfing_data=pd.read_csv('surfing_data.csv')\n",
    "cycling_data=pd.read_csv('cylcing_data.csv')"
   ]
  },
  {
   "cell_type": "code",
   "execution_count": 19,
   "metadata": {},
   "outputs": [],
   "source": [
    "surfing_data.rename(columns={'City':'Destinations','Country':'Countries'},inplace=True)\n",
    "hiking_data.rename(columns={'Activity':'Activities'},inplace=True)\n"
   ]
  },
  {
   "cell_type": "code",
   "execution_count": 21,
   "metadata": {},
   "outputs": [],
   "source": [
    "\n",
    "location_df=pd.concat([hiking_data,cycling_data,surfing_data], axis=0)"
   ]
  },
  {
   "cell_type": "code",
   "execution_count": 27,
   "metadata": {},
   "outputs": [
    {
     "data": {
      "text/plain": [
       "array(['Spain', 'France', 'Switzerland', 'Norway', 'Bulgaria', 'Iceland',\n",
       "       'Scotland', 'Italy', 'Wales', 'Sweden', 'Slovenia', 'Georgia',\n",
       "       'The Balkans', 'Slovakia', 'Corsica', 'Croatia', 'Montenegro',\n",
       "       'Madeira', 'Poland', 'UK', 'Portugal', 'North Cap', 'Germany',\n",
       "       'Greece', 'Austria', 'Romania', 'Luxembourg', 'England', 'Albania',\n",
       "       'Netherlands', 'Ireland', 'Canary Islands', 'Tenerife', 'Denmark',\n",
       "       'Northern Ireland'], dtype=object)"
      ]
     },
     "execution_count": 27,
     "metadata": {},
     "output_type": "execute_result"
    }
   ],
   "source": [
    "location_df['Countries'].unique()"
   ]
  },
  {
   "cell_type": "code",
   "execution_count": 26,
   "metadata": {},
   "outputs": [],
   "source": [
    "location_df['Countries'] = location_df['Countries'].str.replace('U.K','UK', regex=False)\n",
    "location_df['Countries'] = location_df['Countries'].str.replace('UK.','UK', regex=False)\n",
    "location_df['Countries'] = location_df['Countries'].str.replace('County Donegal','Ireland', regex=False)\n"
   ]
  },
  {
   "cell_type": "code",
   "execution_count": 39,
   "metadata": {},
   "outputs": [
    {
     "name": "stdout",
     "output_type": "stream",
     "text": [
      "(174,)\n"
     ]
    },
    {
     "data": {
      "text/plain": [
       "array(['Three peaks', 'Kjeragbolten', 'Fairy Pools', 'Stavanger',\n",
       "       'Alta Via 1', 'Kings Trail', \"England's Coast to Coast\",\n",
       "       'Cinque Terre', 'Eagles Walk', 'Westweg', 'Camino de Santiago',\n",
       "       'Circumventing Matterhorn', 'GR10', 'Hot Spring Route',\n",
       "       'Central Picos Circuit', 'Transylvanian Mountain Trail',\n",
       "       'Camino Dos Faros', 'Hardangervidda Transverse', 'Mullerthal',\n",
       "       'Gr20', 'Hot spring route', 'Slovenian mountain trail',\n",
       "       'Haute route', 'Cinque terre coastal trail', 'Eagles walk',\n",
       "       'Camino de santiago', 'Westweg trail', 'West highland way',\n",
       "       'Central picos circuit', 'Retezat mountains',\n",
       "       'Hardangervidda transverse', 'Pennine Way',\n",
       "       'Slovene Mountain Trail', 'Transcaucasian Trail',\n",
       "       'Harz Border Trail', 'Hornstrandir Trail', 'Mercantour Traverse',\n",
       "       'Mettelhorn', 'Danube Cycle Path', 'Romantic Road'], dtype=object)"
      ]
     },
     "execution_count": 39,
     "metadata": {},
     "output_type": "execute_result"
    }
   ],
   "source": [
    "print(location_df['Destinations'].shape)\n",
    "location_df['Destinations'].unique()[41:81]\n"
   ]
  },
  {
   "cell_type": "code",
   "execution_count": 38,
   "metadata": {},
   "outputs": [],
   "source": [
    "location_df['Destinations'] = location_df['Destinations'].str.replace('.*Mont.Blanc.*','Mont Blanc', regex=True)    \n",
    "location_df['Destinations'] = location_df['Destinations'].str.replace('.*Slovenian.Mountain.*','Slovenian Mountain', regex=True)    \n",
    "location_df['Destinations'] = location_df['Destinations'].str.replace(' (Northern & Southern)','', regex=False) \n",
    "location_df['Destinations'] = location_df['Destinations'].str.replace('\\s?Tour\\s?','', regex=True)    \n",
    "location_df['Destinations'] = location_df['Destinations'].str.replace('\\w*\\s?\\.\\s?\\w*',' ', regex=True)      \n",
    "location_df['Destinations'] = location_df['Destinations'].str.replace('de Monte Rosa','Monte Rosa', regex=False)\n",
    "location_df['Destinations'] = location_df['Destinations'].str.replace('Mt','Mount', regex=False)\n",
    "location_df['Destinations'] = location_df['Destinations'].str.replace('via','Via', regex=False)\n",
    "\n"
   ]
  },
  {
   "cell_type": "code",
   "execution_count": 41,
   "metadata": {},
   "outputs": [],
   "source": [
    "location_df.to_csv(r'locations.csv')"
   ]
  }
 ],
 "metadata": {
  "kernelspec": {
   "display_name": "Python 3.9.12 ('base')",
   "language": "python",
   "name": "python3"
  },
  "language_info": {
   "codemirror_mode": {
    "name": "ipython",
    "version": 3
   },
   "file_extension": ".py",
   "mimetype": "text/x-python",
   "name": "python",
   "nbconvert_exporter": "python",
   "pygments_lexer": "ipython3",
   "version": "3.9.12"
  },
  "orig_nbformat": 4,
  "vscode": {
   "interpreter": {
    "hash": "ff4f85d6e04298634172ac5d8264e7e9b556b95639fe52ebb9425c4d4cba0c9c"
   }
  }
 },
 "nbformat": 4,
 "nbformat_minor": 2
}
